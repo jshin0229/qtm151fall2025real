{
 "cells": [
  {
   "cell_type": "markdown",
   "id": "47f0cbe7",
   "metadata": {},
   "source": [
    "<font size= \"12\"> This is my first Jupyter notebook\n"
   ]
  },
  {
   "cell_type": "code",
   "execution_count": 2,
   "id": "58f1c60c",
   "metadata": {},
   "outputs": [
    {
     "name": "stdout",
     "output_type": "stream",
     "text": [
      "My name is Jongyun (Drake) Shin\n"
     ]
    }
   ],
   "source": [
    "print(\"My name is Jongyun (Drake) Shin\")"
   ]
  }
 ],
 "metadata": {
  "kernelspec": {
   "display_name": "Python 3",
   "language": "python",
   "name": "python3"
  },
  "language_info": {
   "codemirror_mode": {
    "name": "ipython",
    "version": 3
   },
   "file_extension": ".py",
   "mimetype": "text/x-python",
   "name": "python",
   "nbconvert_exporter": "python",
   "pygments_lexer": "ipython3",
   "version": "3.11.2"
  }
 },
 "nbformat": 4,
 "nbformat_minor": 5
}
